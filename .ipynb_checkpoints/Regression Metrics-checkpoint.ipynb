{
 "cells": [
  {
   "cell_type": "code",
   "execution_count": 1,
   "id": "08f531c6-7414-4305-8660-84d670dd38cf",
   "metadata": {},
   "outputs": [],
   "source": [
    "# lets import the required libraries\n",
    "import numpy as np\n",
    "import seaborn as sns\n",
    "import matplotlib.pyplot as plt"
   ]
  },
  {
   "cell_type": "code",
   "execution_count": 12,
   "id": "2a820adc-bb74-4c56-915f-635b3eef9a8d",
   "metadata": {},
   "outputs": [
    {
     "name": "stdout",
     "output_type": "stream",
     "text": [
      "y-test:  [ 1 16 31 46 61 76 91]\n",
      "y-pred:  [ 6 21 36 51 66 81 96]\n"
     ]
    }
   ],
   "source": [
    "# lets create 2 arrays of same length\n",
    "y_test = np.arange(1, 100, 15)\n",
    "y_pred = np.arange(6, 100, 15)\n",
    "print('y-test: ', y_test)\n",
    "print('y-pred: ', y_pred)"
   ]
  },
  {
   "cell_type": "code",
   "execution_count": 13,
   "id": "c4374c44-169b-4a5b-a073-b2caa5302550",
   "metadata": {},
   "outputs": [
    {
     "data": {
      "text/plain": [
       "0.9722222222222222"
      ]
     },
     "execution_count": 13,
     "metadata": {},
     "output_type": "execute_result"
    }
   ],
   "source": [
    "# r2_score\n",
    "from sklearn.metrics import r2_score\n",
    "r2_score(y_test, y_pred)"
   ]
  },
  {
   "cell_type": "code",
   "execution_count": 14,
   "id": "962cd038-36b5-4b0b-a4b1-9700cc3a773d",
   "metadata": {},
   "outputs": [
    {
     "data": {
      "text/plain": [
       "5.0"
      ]
     },
     "execution_count": 14,
     "metadata": {},
     "output_type": "execute_result"
    }
   ],
   "source": [
    "# mean_absolute_error: \n",
    "from sklearn.metrics import mean_absolute_error\n",
    "mean_absolute_error(y_test, y_pred)"
   ]
  },
  {
   "cell_type": "code",
   "execution_count": 15,
   "id": "9c54f1c6-6894-44e5-882f-1d007116e6f0",
   "metadata": {},
   "outputs": [
    {
     "data": {
      "text/plain": [
       "25.0"
      ]
     },
     "execution_count": 15,
     "metadata": {},
     "output_type": "execute_result"
    }
   ],
   "source": [
    "# mean_squared_error: \n",
    "from sklearn.metrics import mean_squared_error\n",
    "mean_squared_error(y_test, y_pred)"
   ]
  },
  {
   "cell_type": "code",
   "execution_count": 20,
   "id": "9a7170ed-178b-4770-b50c-7df812a798b2",
   "metadata": {},
   "outputs": [
    {
     "data": {
      "text/plain": [
       "0.2399947650548763"
      ]
     },
     "execution_count": 20,
     "metadata": {},
     "output_type": "execute_result"
    }
   ],
   "source": [
    "# mean_squared_log_error: \n",
    "from sklearn.metrics import mean_squared_log_error\n",
    "mean_squared_log_error(y_test, y_pred)"
   ]
  },
  {
   "cell_type": "code",
   "execution_count": 21,
   "id": "3f3a90b9-444f-4774-b35b-955dab55c3ff",
   "metadata": {},
   "outputs": [
    {
     "data": {
      "text/plain": [
       "0.8264553880712253"
      ]
     },
     "execution_count": 21,
     "metadata": {},
     "output_type": "execute_result"
    }
   ],
   "source": [
    "# mean_absolute_percentage_error:\n",
    "from sklearn.metrics import mean_absolute_percentage_error\n",
    "mean_absolute_percentage_error(y_test, y_pred)"
   ]
  },
  {
   "cell_type": "code",
   "execution_count": 22,
   "id": "105de0c8-5306-461a-9511-ec6d866ae486",
   "metadata": {},
   "outputs": [
    {
     "data": {
      "text/plain": [
       "5.0"
      ]
     },
     "execution_count": 22,
     "metadata": {},
     "output_type": "execute_result"
    }
   ],
   "source": [
    "# median_absolute_error: \n",
    "from sklearn.metrics import median_absolute_error\n",
    "median_absolute_error(y_test, y_pred)"
   ]
  },
  {
   "cell_type": "code",
   "execution_count": 23,
   "id": "5ff6045e-3412-4773-8c0e-b4b062755367",
   "metadata": {},
   "outputs": [
    {
     "data": {
      "text/plain": [
       "5"
      ]
     },
     "execution_count": 23,
     "metadata": {},
     "output_type": "execute_result"
    }
   ],
   "source": [
    "# max_error\n",
    "from sklearn.metrics import max_error\n",
    "max_error(y_test, y_pred)"
   ]
  },
  {
   "cell_type": "code",
   "execution_count": 24,
   "id": "b100b75b-cd92-4f58-8a27-d4fec81a8d67",
   "metadata": {},
   "outputs": [
    {
     "data": {
      "text/plain": [
       "1.0"
      ]
     },
     "execution_count": 24,
     "metadata": {},
     "output_type": "execute_result"
    }
   ],
   "source": [
    "# explained_variance_score: \n",
    "from sklearn.metrics import explained_variance_score\n",
    "explained_variance_score(y_test, y_pred)"
   ]
  },
  {
   "cell_type": "code",
   "execution_count": 35,
   "id": "03457099-83d0-4786-91e2-68e638ad022b",
   "metadata": {},
   "outputs": [
    {
     "data": {
      "text/plain": [
       "0.2898481577004936"
      ]
     },
     "execution_count": 35,
     "metadata": {},
     "output_type": "execute_result"
    }
   ],
   "source": [
    "# mean_tweedie_deviance: \n",
    "from sklearn.metrics import mean_tweedie_deviance\n",
    "mean_tweedie_deviance(y_test, y_pred, power= 2)"
   ]
  },
  {
   "cell_type": "code",
   "execution_count": 36,
   "id": "668ff7ef-b94c-4450-b7c5-0553f33aa0b2",
   "metadata": {},
   "outputs": [
    {
     "data": {
      "text/plain": [
       "2.5"
      ]
     },
     "execution_count": 36,
     "metadata": {},
     "output_type": "execute_result"
    }
   ],
   "source": [
    "# mean_pinball_loss: \n",
    "from sklearn.metrics import mean_pinball_loss\n",
    "mean_pinball_loss(y_test, y_pred)"
   ]
  },
  {
   "cell_type": "code",
   "execution_count": null,
   "id": "6df80d78-a55f-45f9-9af3-a8016d83475d",
   "metadata": {},
   "outputs": [],
   "source": []
  }
 ],
 "metadata": {
  "kernelspec": {
   "display_name": "Python 3 (ipykernel)",
   "language": "python",
   "name": "python3"
  },
  "language_info": {
   "codemirror_mode": {
    "name": "ipython",
    "version": 3
   },
   "file_extension": ".py",
   "mimetype": "text/x-python",
   "name": "python",
   "nbconvert_exporter": "python",
   "pygments_lexer": "ipython3",
   "version": "3.11.7"
  }
 },
 "nbformat": 4,
 "nbformat_minor": 5
}
